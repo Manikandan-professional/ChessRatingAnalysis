{
  "nbformat": 4,
  "nbformat_minor": 0,
  "metadata": {
    "colab": {
      "name": "ChessRating Analysis.ipynb",
      "provenance": [],
      "collapsed_sections": [],
      "authorship_tag": "ABX9TyMcBlU9LKVLkuKhFci7QaTP",
      "include_colab_link": true
    },
    "kernelspec": {
      "name": "python3",
      "display_name": "Python 3"
    },
    "language_info": {
      "name": "python"
    }
  },
  "cells": [
    {
      "cell_type": "markdown",
      "metadata": {
        "id": "view-in-github",
        "colab_type": "text"
      },
      "source": [
        "<a href=\"https://colab.research.google.com/github/Manikandan-professional/ChessRatingAnalysis/blob/main/ChessRating_Analysis.ipynb\" target=\"_parent\"><img src=\"https://colab.research.google.com/assets/colab-badge.svg\" alt=\"Open In Colab\"/></a>"
      ]
    },
    {
      "cell_type": "markdown",
      "metadata": {
        "id": "bIsO8PxPqn6J"
      },
      "source": [
        "# **ChessRating Analysis**"
      ]
    },
    {
      "cell_type": "markdown",
      "metadata": {
        "id": "uyrRgJfxqrPo"
      },
      "source": [
        "**Importing the necessary modules**"
      ]
    },
    {
      "cell_type": "code",
      "metadata": {
        "id": "Au2BdLqgqgxr"
      },
      "source": [
        "import pandas as pd\n",
        "import numpy as np\n",
        "import matplotlib.pyplot as plt\n",
        "import seaborn as sns"
      ],
      "execution_count": null,
      "outputs": []
    },
    {
      "cell_type": "markdown",
      "metadata": {
        "id": "EYaIiqpJq0nX"
      },
      "source": [
        "**Loading the CSV file**"
      ]
    },
    {
      "cell_type": "code",
      "metadata": {
        "colab": {
          "base_uri": "https://localhost:8080/",
          "height": 419
        },
        "id": "XrfDMpI66H4t",
        "outputId": "9e6dcdfd-2f9d-4a5d-b949-24df5f6736fb"
      },
      "source": [
        "file_Path='https://raw.githubusercontent.com/Manikandan-professional/ChessRatingAnalysis/main/ChessRating.csv'\n",
        "file_Csv=pd.read_csv(file_Path)\n",
        "file_Csv"
      ],
      "execution_count": null,
      "outputs": [
        {
          "output_type": "execute_result",
          "data": {
            "text/html": [
              "<div>\n",
              "<style scoped>\n",
              "    .dataframe tbody tr th:only-of-type {\n",
              "        vertical-align: middle;\n",
              "    }\n",
              "\n",
              "    .dataframe tbody tr th {\n",
              "        vertical-align: top;\n",
              "    }\n",
              "\n",
              "    .dataframe thead th {\n",
              "        text-align: right;\n",
              "    }\n",
              "</style>\n",
              "<table border=\"1\" class=\"dataframe\">\n",
              "  <thead>\n",
              "    <tr style=\"text-align: right;\">\n",
              "      <th></th>\n",
              "      <th>Rank</th>\n",
              "      <th>Name</th>\n",
              "      <th>Country</th>\n",
              "      <th>Classic</th>\n",
              "      <th>Rapid</th>\n",
              "      <th>Blitz</th>\n",
              "      <th>Age</th>\n",
              "    </tr>\n",
              "  </thead>\n",
              "  <tbody>\n",
              "    <tr>\n",
              "      <th>0</th>\n",
              "      <td>1</td>\n",
              "      <td>Carlsen</td>\n",
              "      <td>Norway</td>\n",
              "      <td>2855.0</td>\n",
              "      <td>2842.0</td>\n",
              "      <td>2892.0</td>\n",
              "      <td>30</td>\n",
              "    </tr>\n",
              "    <tr>\n",
              "      <th>1</th>\n",
              "      <td>2</td>\n",
              "      <td>Ding Liren</td>\n",
              "      <td>China</td>\n",
              "      <td>2799.0</td>\n",
              "      <td>2836.0</td>\n",
              "      <td>2788.0</td>\n",
              "      <td>28</td>\n",
              "    </tr>\n",
              "    <tr>\n",
              "      <th>2</th>\n",
              "      <td>3</td>\n",
              "      <td>Caruana</td>\n",
              "      <td>USA</td>\n",
              "      <td>2786.4</td>\n",
              "      <td>2775.0</td>\n",
              "      <td>2765.0</td>\n",
              "      <td>29</td>\n",
              "    </tr>\n",
              "    <tr>\n",
              "      <th>3</th>\n",
              "      <td>4</td>\n",
              "      <td>Nepomniachtchi</td>\n",
              "      <td>Russia</td>\n",
              "      <td>2782.0</td>\n",
              "      <td>2798.0</td>\n",
              "      <td>2792.0</td>\n",
              "      <td>31</td>\n",
              "    </tr>\n",
              "    <tr>\n",
              "      <th>4</th>\n",
              "      <td>5</td>\n",
              "      <td>Aronian</td>\n",
              "      <td>Armenia</td>\n",
              "      <td>2782.0</td>\n",
              "      <td>2761.0</td>\n",
              "      <td>2767.0</td>\n",
              "      <td>39</td>\n",
              "    </tr>\n",
              "    <tr>\n",
              "      <th>...</th>\n",
              "      <td>...</td>\n",
              "      <td>...</td>\n",
              "      <td>...</td>\n",
              "      <td>...</td>\n",
              "      <td>...</td>\n",
              "      <td>...</td>\n",
              "      <td>...</td>\n",
              "    </tr>\n",
              "    <tr>\n",
              "      <th>95</th>\n",
              "      <td>96</td>\n",
              "      <td>Melkumyan</td>\n",
              "      <td>Armenia</td>\n",
              "      <td>2649.0</td>\n",
              "      <td>2686.0</td>\n",
              "      <td>2604.0</td>\n",
              "      <td>32</td>\n",
              "    </tr>\n",
              "    <tr>\n",
              "      <th>96</th>\n",
              "      <td>97</td>\n",
              "      <td>Howell</td>\n",
              "      <td>England</td>\n",
              "      <td>2648.4</td>\n",
              "      <td>2624.0</td>\n",
              "      <td>2653.0</td>\n",
              "      <td>30</td>\n",
              "    </tr>\n",
              "    <tr>\n",
              "      <th>97</th>\n",
              "      <td>98</td>\n",
              "      <td>Nabaty</td>\n",
              "      <td>Israel</td>\n",
              "      <td>2648.0</td>\n",
              "      <td>2636.0</td>\n",
              "      <td>2627.0</td>\n",
              "      <td>30</td>\n",
              "    </tr>\n",
              "    <tr>\n",
              "      <th>98</th>\n",
              "      <td>99</td>\n",
              "      <td>Bauer</td>\n",
              "      <td>France</td>\n",
              "      <td>2647.8</td>\n",
              "      <td>2639.0</td>\n",
              "      <td>2727.0</td>\n",
              "      <td>44</td>\n",
              "    </tr>\n",
              "    <tr>\n",
              "      <th>99</th>\n",
              "      <td>100</td>\n",
              "      <td>Abdusattorov</td>\n",
              "      <td>Uzbekistan</td>\n",
              "      <td>2646.0</td>\n",
              "      <td>2593.0</td>\n",
              "      <td>2690.0</td>\n",
              "      <td>17</td>\n",
              "    </tr>\n",
              "  </tbody>\n",
              "</table>\n",
              "<p>100 rows × 7 columns</p>\n",
              "</div>"
            ],
            "text/plain": [
              "    Rank            Name     Country  Classic   Rapid   Blitz  Age\n",
              "0      1         Carlsen      Norway   2855.0  2842.0  2892.0   30\n",
              "1      2      Ding Liren       China   2799.0  2836.0  2788.0   28\n",
              "2      3         Caruana         USA   2786.4  2775.0  2765.0   29\n",
              "3      4  Nepomniachtchi      Russia   2782.0  2798.0  2792.0   31\n",
              "4      5         Aronian     Armenia   2782.0  2761.0  2767.0   39\n",
              "..   ...             ...         ...      ...     ...     ...  ...\n",
              "95    96       Melkumyan     Armenia   2649.0  2686.0  2604.0   32\n",
              "96    97          Howell     England   2648.4  2624.0  2653.0   30\n",
              "97    98          Nabaty      Israel   2648.0  2636.0  2627.0   30\n",
              "98    99           Bauer      France   2647.8  2639.0  2727.0   44\n",
              "99   100    Abdusattorov  Uzbekistan   2646.0  2593.0  2690.0   17\n",
              "\n",
              "[100 rows x 7 columns]"
            ]
          },
          "metadata": {},
          "execution_count": 90
        }
      ]
    },
    {
      "cell_type": "markdown",
      "metadata": {
        "id": "nzLc-gd56gku"
      },
      "source": [
        "**Conversion of Raw CSV file to a Pandas DataFrame**"
      ]
    },
    {
      "cell_type": "code",
      "metadata": {
        "id": "xflLPDrN6l0S"
      },
      "source": [
        "df=pd.DataFrame(file_Csv)"
      ],
      "execution_count": null,
      "outputs": []
    },
    {
      "cell_type": "markdown",
      "metadata": {
        "id": "Y6Cc-4ZZ6toM"
      },
      "source": [
        "**First Five Rows of the DataFrame**"
      ]
    },
    {
      "cell_type": "code",
      "metadata": {
        "colab": {
          "base_uri": "https://localhost:8080/",
          "height": 204
        },
        "id": "y3jM_Zq66t_j",
        "outputId": "0768c014-58d4-4a04-fb06-bf047f0e6fd5"
      },
      "source": [
        "df.head()"
      ],
      "execution_count": null,
      "outputs": [
        {
          "output_type": "execute_result",
          "data": {
            "text/html": [
              "<div>\n",
              "<style scoped>\n",
              "    .dataframe tbody tr th:only-of-type {\n",
              "        vertical-align: middle;\n",
              "    }\n",
              "\n",
              "    .dataframe tbody tr th {\n",
              "        vertical-align: top;\n",
              "    }\n",
              "\n",
              "    .dataframe thead th {\n",
              "        text-align: right;\n",
              "    }\n",
              "</style>\n",
              "<table border=\"1\" class=\"dataframe\">\n",
              "  <thead>\n",
              "    <tr style=\"text-align: right;\">\n",
              "      <th></th>\n",
              "      <th>Rank</th>\n",
              "      <th>Name</th>\n",
              "      <th>Country</th>\n",
              "      <th>Classic</th>\n",
              "      <th>Rapid</th>\n",
              "      <th>Blitz</th>\n",
              "      <th>Age</th>\n",
              "    </tr>\n",
              "  </thead>\n",
              "  <tbody>\n",
              "    <tr>\n",
              "      <th>0</th>\n",
              "      <td>1</td>\n",
              "      <td>Carlsen</td>\n",
              "      <td>Norway</td>\n",
              "      <td>2855.0</td>\n",
              "      <td>2842.0</td>\n",
              "      <td>2892.0</td>\n",
              "      <td>30</td>\n",
              "    </tr>\n",
              "    <tr>\n",
              "      <th>1</th>\n",
              "      <td>2</td>\n",
              "      <td>Ding Liren</td>\n",
              "      <td>China</td>\n",
              "      <td>2799.0</td>\n",
              "      <td>2836.0</td>\n",
              "      <td>2788.0</td>\n",
              "      <td>28</td>\n",
              "    </tr>\n",
              "    <tr>\n",
              "      <th>2</th>\n",
              "      <td>3</td>\n",
              "      <td>Caruana</td>\n",
              "      <td>USA</td>\n",
              "      <td>2786.4</td>\n",
              "      <td>2775.0</td>\n",
              "      <td>2765.0</td>\n",
              "      <td>29</td>\n",
              "    </tr>\n",
              "    <tr>\n",
              "      <th>3</th>\n",
              "      <td>4</td>\n",
              "      <td>Nepomniachtchi</td>\n",
              "      <td>Russia</td>\n",
              "      <td>2782.0</td>\n",
              "      <td>2798.0</td>\n",
              "      <td>2792.0</td>\n",
              "      <td>31</td>\n",
              "    </tr>\n",
              "    <tr>\n",
              "      <th>4</th>\n",
              "      <td>5</td>\n",
              "      <td>Aronian</td>\n",
              "      <td>Armenia</td>\n",
              "      <td>2782.0</td>\n",
              "      <td>2761.0</td>\n",
              "      <td>2767.0</td>\n",
              "      <td>39</td>\n",
              "    </tr>\n",
              "  </tbody>\n",
              "</table>\n",
              "</div>"
            ],
            "text/plain": [
              "   Rank            Name  Country  Classic   Rapid   Blitz  Age\n",
              "0     1         Carlsen   Norway   2855.0  2842.0  2892.0   30\n",
              "1     2      Ding Liren    China   2799.0  2836.0  2788.0   28\n",
              "2     3         Caruana      USA   2786.4  2775.0  2765.0   29\n",
              "3     4  Nepomniachtchi   Russia   2782.0  2798.0  2792.0   31\n",
              "4     5         Aronian  Armenia   2782.0  2761.0  2767.0   39"
            ]
          },
          "metadata": {},
          "execution_count": 92
        }
      ]
    },
    {
      "cell_type": "markdown",
      "metadata": {
        "id": "3fXT--Av6vg0"
      },
      "source": [
        "**Checking of Null Values**"
      ]
    },
    {
      "cell_type": "code",
      "metadata": {
        "colab": {
          "base_uri": "https://localhost:8080/"
        },
        "id": "iZ9CcrpB6vg0",
        "outputId": "09656a77-ca71-4a84-bd4b-493bd83f8046"
      },
      "source": [
        "df.isnull().sum()"
      ],
      "execution_count": null,
      "outputs": [
        {
          "output_type": "execute_result",
          "data": {
            "text/plain": [
              "Rank       0\n",
              "Name       0\n",
              "Country    0\n",
              "Classic    0\n",
              "Rapid      0\n",
              "Blitz      1\n",
              "Age        0\n",
              "dtype: int64"
            ]
          },
          "metadata": {},
          "execution_count": 93
        }
      ]
    },
    {
      "cell_type": "markdown",
      "metadata": {
        "id": "Qrqwhpoi6vuM"
      },
      "source": [
        "**--> According to the above data there is a null value in the blitz row.**\n",
        "\n",
        "**--> Since this is a very small dataset of 100 rows it can very much affect the result.**\n",
        "\n",
        "**--> So we are filling the Blitz missing values by mean method.**"
      ]
    },
    {
      "cell_type": "code",
      "metadata": {
        "colab": {
          "base_uri": "https://localhost:8080/"
        },
        "id": "Gk0Oh2xi-MAy",
        "outputId": "e8608599-731e-45ab-9d66-daa0a544b021"
      },
      "source": [
        "#Mean of the Blitz Column\n",
        "a=df['Blitz'].sum()\n",
        "b=99 #Since one row has a null value we are considering 99 rows\n",
        "avg=float(round(a/b))\n",
        "avg"
      ],
      "execution_count": null,
      "outputs": [
        {
          "output_type": "execute_result",
          "data": {
            "text/plain": [
              "2676.0"
            ]
          },
          "metadata": {},
          "execution_count": 94
        }
      ]
    },
    {
      "cell_type": "code",
      "metadata": {
        "id": "DjuqD2XW-G4a"
      },
      "source": [
        "df['Blitz'] = df['Blitz'].fillna(avg)"
      ],
      "execution_count": null,
      "outputs": []
    },
    {
      "cell_type": "code",
      "metadata": {
        "colab": {
          "base_uri": "https://localhost:8080/"
        },
        "id": "2fYZh9dA-2T5",
        "outputId": "efe6d2c5-5332-42b4-c85f-623e5d2ebe8b"
      },
      "source": [
        "df.isnull().sum()"
      ],
      "execution_count": null,
      "outputs": [
        {
          "output_type": "execute_result",
          "data": {
            "text/plain": [
              "Rank       0\n",
              "Name       0\n",
              "Country    0\n",
              "Classic    0\n",
              "Rapid      0\n",
              "Blitz      0\n",
              "Age        0\n",
              "dtype: int64"
            ]
          },
          "metadata": {},
          "execution_count": 96
        }
      ]
    },
    {
      "cell_type": "code",
      "metadata": {
        "colab": {
          "base_uri": "https://localhost:8080/",
          "height": 80
        },
        "id": "KmY3tBmO6vuM",
        "outputId": "bc88cb34-0412-4a5d-f912-0147649c0bc3"
      },
      "source": [
        "df[df['Rank']==65]\n"
      ],
      "execution_count": null,
      "outputs": [
        {
          "output_type": "execute_result",
          "data": {
            "text/html": [
              "<div>\n",
              "<style scoped>\n",
              "    .dataframe tbody tr th:only-of-type {\n",
              "        vertical-align: middle;\n",
              "    }\n",
              "\n",
              "    .dataframe tbody tr th {\n",
              "        vertical-align: top;\n",
              "    }\n",
              "\n",
              "    .dataframe thead th {\n",
              "        text-align: right;\n",
              "    }\n",
              "</style>\n",
              "<table border=\"1\" class=\"dataframe\">\n",
              "  <thead>\n",
              "    <tr style=\"text-align: right;\">\n",
              "      <th></th>\n",
              "      <th>Rank</th>\n",
              "      <th>Name</th>\n",
              "      <th>Country</th>\n",
              "      <th>Classic</th>\n",
              "      <th>Rapid</th>\n",
              "      <th>Blitz</th>\n",
              "      <th>Age</th>\n",
              "    </tr>\n",
              "  </thead>\n",
              "  <tbody>\n",
              "    <tr>\n",
              "      <th>64</th>\n",
              "      <td>65</td>\n",
              "      <td>Sevian</td>\n",
              "      <td>USA</td>\n",
              "      <td>2668.1</td>\n",
              "      <td>2597.0</td>\n",
              "      <td>2676.0</td>\n",
              "      <td>20</td>\n",
              "    </tr>\n",
              "  </tbody>\n",
              "</table>\n",
              "</div>"
            ],
            "text/plain": [
              "    Rank    Name Country  Classic   Rapid   Blitz  Age\n",
              "64    65  Sevian     USA   2668.1  2597.0  2676.0   20"
            ]
          },
          "metadata": {},
          "execution_count": 97
        }
      ]
    },
    {
      "cell_type": "markdown",
      "metadata": {
        "id": "-caeJTfc6vyM"
      },
      "source": [
        ""
      ]
    },
    {
      "cell_type": "code",
      "metadata": {
        "id": "JgZRxzue8lcS"
      },
      "source": [
        "l=[]\n",
        "for i in range(0,df.shape[0],1):\n",
        "  l.append(df['Blitz'][i])"
      ],
      "execution_count": null,
      "outputs": []
    },
    {
      "cell_type": "markdown",
      "metadata": {
        "id": "CMKUgA6q6v1H"
      },
      "source": [
        ""
      ]
    },
    {
      "cell_type": "code",
      "metadata": {
        "colab": {
          "base_uri": "https://localhost:8080/",
          "height": 533
        },
        "id": "y3mTK4BC6v1H",
        "outputId": "26553f6a-e3e3-42bb-b8b4-d3a6f8f0f60e"
      },
      "source": [
        "a=np.arange(100)\n",
        "plt.figure(figsize=(16,8),dpi=80)\n",
        "axis=plt.axes()\n",
        "axis.set_facecolor('black')\n",
        "plt.scatter(a,l,s=25,color='yellow')\n",
        "plt.show()"
      ],
      "execution_count": null,
      "outputs": [
        {
          "output_type": "display_data",
          "data": {
            "image/png": "[encoded data removed]",
            "text/plain": [
              "<Figure size 1280x640 with 1 Axes>"
            ]
          },
          "metadata": {
            "needs_background": "light"
          }
        }
      ]
    },
    {
      "cell_type": "code",
      "metadata": {
        "id": "FHJ1fSB9Bodo"
      },
      "source": [
        "print(df.Blitz)\n",
        "print(np.mean(df.Blitz))\n",
        "print(np.median(df.Blitz))"
      ],
      "execution_count": null,
      "outputs": []
    },
    {
      "cell_type": "code",
      "metadata": {
        "id": "L_4AW9U7CFgY"
      },
      "source": [
        "df.Blitz[99]"
      ],
      "execution_count": null,
      "outputs": []
    },
    {
      "cell_type": "code",
      "metadata": {
        "id": "o_N4cTgoB8XY"
      },
      "source": [
        "l=[]\n",
        "for i in range(0,df.shape[0],1):\n",
        "  l.append(df['Blitz'][i])\n",
        "l.sort()\n",
        "print()"
      ],
      "execution_count": null,
      "outputs": []
    }
  ]
}